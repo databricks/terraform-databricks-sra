{
 "cells": [
  {
   "cell_type": "markdown",
   "id": "5bbd5c09",
   "metadata": {},
   "source": [
    "# Model Cleanup\n",
    "This notebook deletes a model from the model registry. Use with caution!\n"
   ]
  },
  {
   "cell_type": "code",
   "execution_count": null,
   "id": "d9cfee29",
   "metadata": {},
   "outputs": [],
   "source": [
    "# Setup widgets for model configuration\n",
    "dbutils.widgets.text(\"catalog\", \"main\", \"Model Catalog\")\n",
    "dbutils.widgets.text(\"schema\", \"default\", \"Model Schema\")\n",
    "dbutils.widgets.text(\"model_name\", \"mlflow3_demo\", \"Model Name\")\n",
    "dbutils.widgets.text(\"model_alias\", \"challenger\", \"Model Alias\")"
   ]
  },
  {
   "cell_type": "code",
   "execution_count": null,
   "id": "179dd6d9",
   "metadata": {},
   "outputs": [],
   "source": [
    "# Get widget values\n",
    "model_catalog = dbutils.widgets.get(\"model_catalog\")\n",
    "model_schema = dbutils.widgets.get(\"model_schema\")\n",
    "model_name = dbutils.widgets.get(\"model_name\")\n",
    "model_alias = dbutils.widgets.get(\"model_alias\")\n",
    "\n",
    "# Construct model URI\n",
    "full_model_name = f\"{model_catalog}.{model_schema}.{model_name}\"\n",
    "model_uri = f\"models:/{full_model_name}@{model_alias}\"\n",
    "\n",
    "print(f\"Model URI: {model_uri}\")"
   ]
  },
  {
   "cell_type": "code",
   "execution_count": null,
   "id": "1bacf653",
   "metadata": {},
   "outputs": [],
   "source": [
    "import mlflow\n",
    "from mlflow import MlflowClient\n",
    "\n",
    "# Set MLflow registry URI to Unity Catalog\n",
    "mlflow.set_registry_uri(\"databricks-uc\")"
   ]
  },
  {
   "cell_type": "code",
   "execution_count": null,
   "id": "d353d206",
   "metadata": {},
   "outputs": [],
   "source": [
    "# Get model version by alias using MLflow API\n",
    "client = MlflowClient()\n",
    "model_version = client.get_model_version_by_alias(full_model_name, model_alias).version\n",
    "print(f\"Model version for alias '{model_alias}': {model_version}\")"
   ]
  },
  {
   "cell_type": "code",
   "execution_count": null,
   "id": "e128a61c",
   "metadata": {},
   "outputs": [],
   "source": [
    "client.delete_model_version(name=full_model_name, version=model_version)"
   ]
  }
 ],
 "metadata": {
  "language_info": {
   "name": "python"
  }
 },
 "nbformat": 4,
 "nbformat_minor": 5
}
