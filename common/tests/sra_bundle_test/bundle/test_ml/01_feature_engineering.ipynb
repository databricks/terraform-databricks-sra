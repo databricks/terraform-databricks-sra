{
 "cells": [
  {
   "cell_type": "code",
   "execution_count": 0,
   "metadata": {
    "application/vnd.databricks.v1+cell": {
     "cellMetadata": {},
     "inputWidgets": {},
     "nuid": "5bbc5dcf-39dd-40d7-b1cb-4a7a6daf37cb",
     "showTitle": false,
     "tableResultSettingsMap": {},
     "title": ""
    }
   },
   "outputs": [],
   "source": [
    "# Create widgets for destination table configuration\n",
    "dbutils.widgets.text(\"features_table\", \"main.default.nyc_taxi_trips_copy\", \"Table Name\")\n",
    "\n",
    "# Create widgets for date range filtering\n",
    "dbutils.widgets.text(\"start_datetime\", \"2016-01-01 00:00:00\", \"Start Datetime (YYYY-MM-DD HH:MM:SS)\")\n",
    "dbutils.widgets.text(\"end_datetime\", \"2016-01-31 23:59:59\", \"End Datetime (YYYY-MM-DD HH:MM:SS)\")\n",
    "\n",
    "# Get widget values\n",
    "table = dbutils.widgets.get(\"features_table\")\n",
    "start_datetime = dbutils.widgets.get(\"start_datetime\")\n",
    "end_datetime = dbutils.widgets.get(\"end_datetime\")\n",
    "\n",
    "\n",
    "print(f\"Source table: samples.nyctaxi.trips\")\n",
    "print(f\"Features table: {table}\")\n",
    "print(f\"Date range filter: {start_datetime} to {end_datetime}\")\n"
   ]
  },
  {
   "cell_type": "code",
   "execution_count": 0,
   "metadata": {
    "application/vnd.databricks.v1+cell": {
     "cellMetadata": {},
     "inputWidgets": {},
     "nuid": "4ca651f1-958d-4cdb-99f9-28a2ee6da415",
     "showTitle": false,
     "tableResultSettingsMap": {},
     "title": ""
    }
   },
   "outputs": [],
   "source": [
    "# Create table with filtered data based on date range\n",
    "spark.sql(f\"\"\"\n",
    "CREATE OR REPLACE TABLE {table} AS\n",
    "SELECT *\n",
    "FROM samples.nyctaxi.trips\n",
    "WHERE tpep_pickup_datetime >= '{start_datetime}'\n",
    "  AND tpep_pickup_datetime <= '{end_datetime}'\n",
    "\"\"\")"
   ]
  }
 ],
 "metadata": {
  "application/vnd.databricks.v1+notebook": {
   "computePreferences": null,
   "dashboards": [],
   "environmentMetadata": null,
   "inputWidgetPreferences": null,
   "language": "python",
   "notebookMetadata": {},
   "notebookName": "01_feature_engineering",
   "widgets": {}
  },
  "language_info": {
   "name": "python"
  }
 },
 "nbformat": 4,
 "nbformat_minor": 0
}
