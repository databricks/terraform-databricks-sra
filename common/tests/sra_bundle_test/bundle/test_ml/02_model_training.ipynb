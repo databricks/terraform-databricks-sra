{
 "cells": [
  {
   "cell_type": "markdown",
   "metadata": {
    "application/vnd.databricks.v1+cell": {
     "cellMetadata": {},
     "inputWidgets": {},
     "nuid": "ee353e42-ff58-4955-9608-12865bd0950e",
     "showTitle": false,
     "tableResultSettingsMap": {},
     "title": ""
    }
   },
   "source": [
    "# NYC Taxi Fare Prediction Model\n",
    "\n",
    "This notebook trains a regression model to predict taxi fare amounts using the NYC taxi dataset from Unity Catalog."
   ]
  },
  {
   "cell_type": "code",
   "execution_count": 0,
   "metadata": {
    "application/vnd.databricks.v1+cell": {
     "cellMetadata": {},
     "inputWidgets": {},
     "nuid": "65fbabb7-a4e1-42af-8bd5-5b07bbf192e3",
     "showTitle": false,
     "tableResultSettingsMap": {},
     "title": ""
    }
   },
   "outputs": [],
   "source": [
    "import mlflow\n",
    "import mlflow.sklearn\n",
    "from mlflow.tracking.client import MlflowClient\n",
    "from sklearn.ensemble import RandomForestRegressor\n",
    "from sklearn.model_selection import train_test_split\n",
    "from sklearn.metrics import mean_squared_error, mean_absolute_error, r2_score\n",
    "import pandas as pd\n",
    "import numpy as np\n",
    "from pyspark.sql import functions as F\n",
    "from datetime import datetime\n",
    "import warnings\n",
    "warnings.filterwarnings('ignore')\n",
    "\n",
    "print(f\"MLflow version: {mlflow.__version__}\")"
   ]
  },
  {
   "cell_type": "code",
   "execution_count": 0,
   "metadata": {
    "application/vnd.databricks.v1+cell": {
     "cellMetadata": {},
     "inputWidgets": {},
     "nuid": "ca0b954f-69e8-4f6f-9d08-abc98fb46604",
     "showTitle": false,
     "tableResultSettingsMap": {},
     "title": ""
    }
   },
   "outputs": [],
   "source": [
    "# Create widgets for source table configuration\n",
    "dbutils.widgets.text(\"catalog\", \"mlflow3demo_dev\", \"Catalog\")\n",
    "dbutils.widgets.text(\"schema\", \"dev_connor_brown_mlflow3_demo\", \"Schema\") \n",
    "dbutils.widgets.text(\"features_table\", \"main.default.features\", \"Features Table Name\")\n",
    "dbutils.widgets.text(\"model_name\", \"dev_connor_brown_mlflow3_demo\", \"Model Name for UC\")\n",
    "dbutils.widgets.text(\"experiment_name\", \"/Workspace/Users/connor.brown@databricks.com/experiments/[dev connor_brown] mlflow3_demo\", \"Experiment Name\")\n",
    "dbutils.widgets.text(\"model_alias\", \"challenger\", \"Model Alias\")"
   ]
  },
  {
   "cell_type": "code",
   "execution_count": 0,
   "metadata": {
    "application/vnd.databricks.v1+cell": {
     "cellMetadata": {},
     "inputWidgets": {},
     "nuid": "80b819e9-3cca-4d16-866d-acedb409f384",
     "showTitle": false,
     "tableResultSettingsMap": {},
     "title": ""
    }
   },
   "outputs": [],
   "source": [
    "# Get widget values\n",
    "catalog = dbutils.widgets.get(\"catalog\")\n",
    "schema = dbutils.widgets.get(\"schema\")\n",
    "features_table = dbutils.widgets.get(\"features_table\")\n",
    "model_name = dbutils.widgets.get(\"model_name\")\n",
    "experiment_name = dbutils.widgets.get(\"experiment_name\")\n",
    "model_alias = dbutils.widgets.get(\"model_alias\")\n",
    "\n",
    "# Construct full table name and model name\n",
    "full_model_name = f\"{catalog}.{schema}.{model_name}\"\n",
    "\n",
    "print(f\"Source table: {features_table}\")\n",
    "print(f\"Model will be registered as: {full_model_name}\")"
   ]
  },
  {
   "cell_type": "code",
   "execution_count": 0,
   "metadata": {
    "application/vnd.databricks.v1+cell": {
     "cellMetadata": {},
     "inputWidgets": {},
     "nuid": "473750b5-c236-46bb-88f2-dbe178303829",
     "showTitle": false,
     "tableResultSettingsMap": {},
     "title": ""
    }
   },
   "outputs": [],
   "source": [
    "client = MlflowClient(registry_uri=\"databricks-uc\")"
   ]
  },
  {
   "cell_type": "code",
   "execution_count": 0,
   "metadata": {
    "application/vnd.databricks.v1+cell": {
     "cellMetadata": {
      "byteLimit": 2048000,
      "rowLimit": 10000
     },
     "inputWidgets": {},
     "nuid": "6bca260b-13d1-448f-8082-30b60a85c9ae",
     "showTitle": false,
     "tableResultSettingsMap": {},
     "title": ""
    }
   },
   "outputs": [],
   "source": [
    "# Load data from Unity Catalog\n",
    "print(f\"Loading data from {features_table}...\")\n",
    "\n",
    "df = spark.table(features_table)"
   ]
  },
  {
   "cell_type": "code",
   "execution_count": 0,
   "metadata": {
    "application/vnd.databricks.v1+cell": {
     "cellMetadata": {},
     "inputWidgets": {},
     "nuid": "d48de31a-a2f1-4e01-a29e-2c26fba56cda",
     "showTitle": false,
     "tableResultSettingsMap": {},
     "title": ""
    }
   },
   "outputs": [],
   "source": [
    "# Feature Engineering and Data Preparation\n",
    "print(\"Creating features for the regression model...\")\n",
    "\n",
    "# Feature engineering using Spark SQL\n",
    "df_features = df.select(\n",
    "    # Target variable\n",
    "    F.col(\"fare_amount\").alias(\"target\"),\n",
    "    \n",
    "    # Distance feature\n",
    "    F.col(\"trip_distance\"),\n",
    "    \n",
    "    # Time-based features\n",
    "    F.hour(F.col(\"tpep_pickup_datetime\")).alias(\"pickup_hour\"),\n",
    "    F.dayofweek(F.col(\"tpep_pickup_datetime\")).alias(\"pickup_day_of_week\"),\n",
    "    F.month(F.col(\"tpep_pickup_datetime\")).alias(\"pickup_month\"),\n",
    "    \n",
    "    # Trip duration in minutes\n",
    "    ((F.unix_timestamp(F.col(\"tpep_dropoff_datetime\")) - \n",
    "      F.unix_timestamp(F.col(\"tpep_pickup_datetime\"))) / 60).alias(\"trip_duration_minutes\"),\n",
    "    \n",
    "    # Location features (if available)\n",
    "    F.col(\"pickup_zip\").cast(\"string\").alias(\"pickup_zip\"),\n",
    "    F.col(\"dropoff_zip\").cast(\"string\").alias(\"dropoff_zip\")\n",
    ").filter(\n",
    "    # Filter out invalid data\n",
    "    (F.col(\"fare_amount\") > 0) & \n",
    "    (F.col(\"fare_amount\") < 1000) &  # Remove outliers\n",
    "    (F.col(\"trip_distance\") > 0) & \n",
    "    (F.col(\"trip_distance\") < 100) &  # Remove outliers\n",
    "    (F.col(\"trip_duration_minutes\") > 0) &\n",
    "    (F.col(\"trip_duration_minutes\") < 300)  # Remove trips longer than 5 hours\n",
    ")\n",
    "\n",
    "print(f\"After filtering: {df_features.count():,} rows\")\n",
    "display(df_features.limit(5))\n"
   ]
  },
  {
   "cell_type": "code",
   "execution_count": 0,
   "metadata": {
    "application/vnd.databricks.v1+cell": {
     "cellMetadata": {},
     "inputWidgets": {},
     "nuid": "03847804-ce9b-446e-a0f3-d91ded69212c",
     "showTitle": false,
     "tableResultSettingsMap": {},
     "title": ""
    }
   },
   "outputs": [],
   "source": [
    "# Convert to Pandas for scikit-learn (sample data for faster training)\n",
    "print(\"Converting to Pandas DataFrame...\")\n",
    "\n",
    "# Sample data for faster training (adjust sample_fraction as needed)\n",
    "sample_fraction = 0.1  # Use 10% of data\n",
    "df_sample = df_features.sample(fraction=sample_fraction, seed=42)\n",
    "\n",
    "# Convert to Pandas\n",
    "pdf = df_sample.toPandas()\n",
    "\n",
    "print(f\"Working with {len(pdf):,} rows (sample of {sample_fraction*100}%)\")\n",
    "print(f\"Target variable stats:\")\n",
    "print(pdf['target'].describe())\n",
    "\n",
    "# Prepare features for modeling\n",
    "feature_columns = ['trip_distance', 'pickup_hour', 'pickup_day_of_week', \n",
    "                  'pickup_month', 'trip_duration_minutes']\n",
    "\n",
    "# Handle missing values if any\n",
    "pdf_clean = pdf[feature_columns + ['target']].dropna()\n",
    "\n",
    "X = pdf_clean[feature_columns]\n",
    "y = pdf_clean['target']\n",
    "\n",
    "print(f\"\\nFinal dataset shape: {X.shape}\")\n",
    "print(f\"Features: {feature_columns}\")\n",
    "print(f\"Target variable range: ${y.min():.2f} - ${y.max():.2f}\")\n"
   ]
  },
  {
   "cell_type": "code",
   "execution_count": 0,
   "metadata": {
    "application/vnd.databricks.v1+cell": {
     "cellMetadata": {},
     "inputWidgets": {},
     "nuid": "49b27033-aa04-4868-b3b3-14a47c12bfbe",
     "showTitle": false,
     "tableResultSettingsMap": {},
     "title": ""
    }
   },
   "outputs": [],
   "source": [
    "# Split data into training and test sets\n",
    "print(\"Splitting data into train/test sets...\")\n",
    "\n",
    "X_train, X_test, y_train, y_test = train_test_split(\n",
    "    X, y, test_size=0.2, random_state=42\n",
    ")\n",
    "\n",
    "print(f\"Training set: {X_train.shape[0]:,} samples\")\n",
    "print(f\"Test set: {X_test.shape[0]:,} samples\")\n",
    "\n",
    "# Train a simple Random Forest Regression model\n",
    "print(\"\\nTraining Random Forest Regressor...\")\n",
    "\n",
    "# Initialize the model\n",
    "rf_model = RandomForestRegressor(\n",
    "    n_estimators=100,\n",
    "    max_depth=10,\n",
    "    random_state=42,\n",
    "    n_jobs=-1\n",
    ")\n",
    "\n",
    "# Train the model\n",
    "rf_model.fit(X_train, y_train)\n",
    "\n",
    "print(\"Model training completed!\")\n",
    "\n",
    "# Make predictions\n",
    "y_pred_train = rf_model.predict(X_train)\n",
    "y_pred_test = rf_model.predict(X_test)\n",
    "\n",
    "print(f\"Training predictions range: ${y_pred_train.min():.2f} - ${y_pred_train.max():.2f}\")\n",
    "print(f\"Test predictions range: ${y_pred_test.min():.2f} - ${y_pred_test.max():.2f}\")\n"
   ]
  },
  {
   "cell_type": "code",
   "execution_count": 0,
   "metadata": {
    "application/vnd.databricks.v1+cell": {
     "cellMetadata": {},
     "inputWidgets": {},
     "nuid": "665040c0-4385-45cd-9bc6-64bedada8318",
     "showTitle": false,
     "tableResultSettingsMap": {},
     "title": ""
    }
   },
   "outputs": [],
   "source": [
    "# Evaluate model performance\n",
    "print(\"Evaluating model performance...\")\n",
    "\n",
    "# Calculate metrics for training set\n",
    "train_mse = mean_squared_error(y_train, y_pred_train)\n",
    "train_mae = mean_absolute_error(y_train, y_pred_train)\n",
    "train_r2 = r2_score(y_train, y_pred_train)\n",
    "\n",
    "# Calculate metrics for test set\n",
    "test_mse = mean_squared_error(y_test, y_pred_test)\n",
    "test_mae = mean_absolute_error(y_test, y_pred_test)\n",
    "test_r2 = r2_score(y_test, y_pred_test)\n",
    "\n",
    "print(\"Model Performance Metrics:\")\n",
    "print(\"=\" * 50)\n",
    "print(f\"Training Set:\")\n",
    "print(f\"  - MSE: {train_mse:.2f}\")\n",
    "print(f\"  - MAE: ${train_mae:.2f}\")\n",
    "print(f\"  - R²: {train_r2:.3f}\")\n",
    "print()\n",
    "print(f\"Test Set:\")\n",
    "print(f\"  - MSE: {test_mse:.2f}\")\n",
    "print(f\"  - MAE: ${test_mae:.2f}\")\n",
    "print(f\"  - R²: {test_r2:.3f}\")\n",
    "print()\n",
    "\n",
    "# Feature importance\n",
    "feature_importance = pd.DataFrame({\n",
    "    'feature': feature_columns,\n",
    "    'importance': rf_model.feature_importances_\n",
    "}).sort_values('importance', ascending=False)\n",
    "\n",
    "print(\"🔍 Feature Importance:\")\n",
    "print(feature_importance)\n",
    "\n",
    "# Store metrics for MLflow logging\n",
    "metrics = {\n",
    "    'train_mse': train_mse,\n",
    "    'train_mae': train_mae,\n",
    "    'train_r2': train_r2,\n",
    "    'test_mse': test_mse,\n",
    "    'test_mae': test_mae,\n",
    "    'test_r2': test_r2\n",
    "}\n"
   ]
  },
  {
   "cell_type": "code",
   "execution_count": 0,
   "metadata": {
    "application/vnd.databricks.v1+cell": {
     "cellMetadata": {},
     "inputWidgets": {},
     "nuid": "2bbf364a-4264-4268-aea0-f8a814e06160",
     "showTitle": false,
     "tableResultSettingsMap": {},
     "title": ""
    }
   },
   "outputs": [],
   "source": [
    "# Log model to Unity Catalog using MLflow\n",
    "print(\"Logging model to Unity Catalog...\")\n",
    "\n",
    "# Set MLflow registry URI to Unity Catalog\n",
    "mlflow.set_registry_uri(\"databricks-uc\")\n",
    "mlflow.set_experiment(experiment_name)"
   ]
  },
  {
   "cell_type": "code",
   "execution_count": 0,
   "metadata": {
    "application/vnd.databricks.v1+cell": {
     "cellMetadata": {},
     "inputWidgets": {},
     "nuid": "596dd46e-b200-4e7b-ab78-b384d18873b8",
     "showTitle": false,
     "tableResultSettingsMap": {},
     "title": ""
    }
   },
   "outputs": [],
   "source": [
    "# Start MLflow run\n",
    "with mlflow.start_run(run_name=f\"taxi_fare_model_{datetime.now().strftime('%Y%m%d_%H%M%S')}\") as run:\n",
    "    \n",
    "    # Log parameters\n",
    "    mlflow.log_params({\n",
    "        \"model_type\": \"RandomForestRegressor\",\n",
    "        \"n_estimators\": 100,\n",
    "        \"max_depth\": 10,\n",
    "        \"sample_fraction\": sample_fraction,\n",
    "        \"features\": feature_columns,\n",
    "        \"source_table\": features_table\n",
    "    })\n",
    "    \n",
    "    # Log metrics\n",
    "    mlflow.log_metrics(metrics)\n",
    "    \n",
    "    # Log the model with input example\n",
    "    input_example = X_test.iloc[:5]  # First 5 rows as example\n",
    "    \n",
    "    logged_model = mlflow.sklearn.log_model(\n",
    "        sk_model=rf_model,\n",
    "        artifact_path=\"model\",\n",
    "        registered_model_name=full_model_name,\n",
    "        input_example=input_example,\n",
    "        signature=mlflow.models.infer_signature(X_train, y_pred_train)\n",
    "    )\n",
    "    \n",
    "    # Log feature importance as an artifact\n",
    "    import matplotlib.pyplot as plt\n",
    "    plt.figure(figsize=(10, 6))\n",
    "    plt.barh(feature_importance['feature'], feature_importance['importance'])\n",
    "    plt.title('Feature Importance')\n",
    "    plt.xlabel('Importance')\n",
    "    plt.tight_layout()\n",
    "    plt.savefig(\"feature_importance.png\")\n",
    "    mlflow.log_artifact(\"feature_importance.png\")\n",
    "    plt.close()\n",
    "    \n",
    "    run_id = run.info.run_id\n",
    "print(f\"Model logged successfully!\")\n",
    "print(f\"Run ID: {run_id}\")\n",
    "print(f\"Model registered as: {full_model_name}\")\n",
    "print(f\"You can view the model in the Databricks UI under Models -> {full_model_name}\")"
   ]
  },
  {
   "cell_type": "code",
   "execution_count": 0,
   "metadata": {
    "application/vnd.databricks.v1+cell": {
     "cellMetadata": {},
     "inputWidgets": {},
     "nuid": "fb5dbeac-510a-44f9-a3d8-6ada48484348",
     "showTitle": false,
     "tableResultSettingsMap": {},
     "title": ""
    }
   },
   "outputs": [],
   "source": [
    "client.set_registered_model_alias(name=full_model_name, alias=model_alias, version=logged_model.registered_model_version)"
   ]
  }
 ],
 "metadata": {
  "application/vnd.databricks.v1+notebook": {
   "computePreferences": null,
   "dashboards": [],
   "environmentMetadata": null,
   "inputWidgetPreferences": null,
   "language": "python",
   "notebookMetadata": {
    "pythonIndentUnit": 2
   },
   "notebookName": "02_model_training",
   "widgets": {}
  },
  "kernelspec": {
   "display_name": "Python 3",
   "language": "python",
   "name": "python3"
  },
  "language_info": {
   "name": "python"
  }
 },
 "nbformat": 4,
 "nbformat_minor": 0
}
